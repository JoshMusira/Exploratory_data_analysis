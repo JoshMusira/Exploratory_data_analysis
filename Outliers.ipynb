{
 "cells": [
  {
   "cell_type": "markdown",
   "id": "ed7c5e14",
   "metadata": {},
   "source": [
    "# Outliers"
   ]
  },
  {
   "cell_type": "code",
   "execution_count": 1,
   "id": "f37c1d20",
   "metadata": {},
   "outputs": [],
   "source": [
    "import numpy as np\n",
    "import matplotlib.pyplot as plt\n",
    "import statistics\n",
    "import pandas as pd\n",
    "import seaborn as sns\n"
   ]
  },
  {
   "cell_type": "code",
   "execution_count": 2,
   "id": "071ffe62",
   "metadata": {},
   "outputs": [],
   "source": [
    "import warnings\n",
    "warnings.filterwarnings(\"ignore\", category=FutureWarning)\n"
   ]
  },
  {
   "cell_type": "code",
   "execution_count": 3,
   "id": "db3ae814",
   "metadata": {},
   "outputs": [],
   "source": [
    "data = pd.read_csv(r'raw_sales.csv')"
   ]
  },
  {
   "cell_type": "code",
   "execution_count": 4,
   "id": "a942d20f",
   "metadata": {},
   "outputs": [
    {
     "data": {
      "text/html": [
       "<div>\n",
       "<style scoped>\n",
       "    .dataframe tbody tr th:only-of-type {\n",
       "        vertical-align: middle;\n",
       "    }\n",
       "\n",
       "    .dataframe tbody tr th {\n",
       "        vertical-align: top;\n",
       "    }\n",
       "\n",
       "    .dataframe thead th {\n",
       "        text-align: right;\n",
       "    }\n",
       "</style>\n",
       "<table border=\"1\" class=\"dataframe\">\n",
       "  <thead>\n",
       "    <tr style=\"text-align: right;\">\n",
       "      <th></th>\n",
       "      <th>datesold</th>\n",
       "      <th>postcode</th>\n",
       "      <th>price</th>\n",
       "      <th>propertyType</th>\n",
       "      <th>bedrooms</th>\n",
       "    </tr>\n",
       "  </thead>\n",
       "  <tbody>\n",
       "    <tr>\n",
       "      <th>0</th>\n",
       "      <td>2007-02-07 00:00:00</td>\n",
       "      <td>2607</td>\n",
       "      <td>525000</td>\n",
       "      <td>house</td>\n",
       "      <td>4</td>\n",
       "    </tr>\n",
       "    <tr>\n",
       "      <th>1</th>\n",
       "      <td>2007-02-27 00:00:00</td>\n",
       "      <td>2906</td>\n",
       "      <td>290000</td>\n",
       "      <td>house</td>\n",
       "      <td>3</td>\n",
       "    </tr>\n",
       "    <tr>\n",
       "      <th>2</th>\n",
       "      <td>2007-03-07 00:00:00</td>\n",
       "      <td>2905</td>\n",
       "      <td>328000</td>\n",
       "      <td>house</td>\n",
       "      <td>3</td>\n",
       "    </tr>\n",
       "    <tr>\n",
       "      <th>3</th>\n",
       "      <td>2007-03-09 00:00:00</td>\n",
       "      <td>2905</td>\n",
       "      <td>380000</td>\n",
       "      <td>house</td>\n",
       "      <td>4</td>\n",
       "    </tr>\n",
       "    <tr>\n",
       "      <th>4</th>\n",
       "      <td>2007-03-21 00:00:00</td>\n",
       "      <td>2906</td>\n",
       "      <td>310000</td>\n",
       "      <td>house</td>\n",
       "      <td>3</td>\n",
       "    </tr>\n",
       "  </tbody>\n",
       "</table>\n",
       "</div>"
      ],
      "text/plain": [
       "              datesold  postcode   price propertyType  bedrooms\n",
       "0  2007-02-07 00:00:00      2607  525000        house         4\n",
       "1  2007-02-27 00:00:00      2906  290000        house         3\n",
       "2  2007-03-07 00:00:00      2905  328000        house         3\n",
       "3  2007-03-09 00:00:00      2905  380000        house         4\n",
       "4  2007-03-21 00:00:00      2906  310000        house         3"
      ]
     },
     "execution_count": 4,
     "metadata": {},
     "output_type": "execute_result"
    }
   ],
   "source": [
    "data.head(5)"
   ]
  },
  {
   "cell_type": "code",
   "execution_count": 5,
   "id": "70f7b914",
   "metadata": {},
   "outputs": [
    {
     "name": "stdout",
     "output_type": "stream",
     "text": [
      "<class 'pandas.core.frame.DataFrame'>\n",
      "RangeIndex: 29580 entries, 0 to 29579\n",
      "Data columns (total 5 columns):\n",
      " #   Column        Non-Null Count  Dtype \n",
      "---  ------        --------------  ----- \n",
      " 0   datesold      29580 non-null  object\n",
      " 1   postcode      29580 non-null  int64 \n",
      " 2   price         29580 non-null  int64 \n",
      " 3   propertyType  29580 non-null  object\n",
      " 4   bedrooms      29580 non-null  int64 \n",
      "dtypes: int64(3), object(2)\n",
      "memory usage: 1.1+ MB\n"
     ]
    }
   ],
   "source": [
    "data.info()"
   ]
  },
  {
   "cell_type": "code",
   "execution_count": 6,
   "id": "1c19e2d9",
   "metadata": {},
   "outputs": [
    {
     "data": {
      "text/plain": [
       "datesold        0\n",
       "postcode        0\n",
       "price           0\n",
       "propertyType    0\n",
       "bedrooms        0\n",
       "dtype: int64"
      ]
     },
     "execution_count": 6,
     "metadata": {},
     "output_type": "execute_result"
    }
   ],
   "source": [
    "data.isna().sum()"
   ]
  },
  {
   "cell_type": "code",
   "execution_count": 48,
   "id": "4e155faf",
   "metadata": {},
   "outputs": [],
   "source": [
    "# Function to Detection Outlier on one-dimentional datasets.\n",
    "def find_anomalies(data):\n",
    "    #define a list to append anomalies\n",
    "    anomalies = []\n",
    "    \n",
    "    # Set upper and lower limit to 3 standard deviation\n",
    "    random_data_std = statistics.stdev(data)\n",
    "    random_data_mean = statistics.mean(data)\n",
    "    \n",
    "    # 3-standard deviation\n",
    "    anomaly_cut_off = random_data_std * 3\n",
    "    \n",
    "    lower_limit  = random_data_mean - anomaly_cut_off \n",
    "    upper_limit = random_data_mean + anomaly_cut_off\n",
    "    \n",
    "    # Generate outliers\n",
    "    for outlier in data:\n",
    "        if outlier > upper_limit or outlier < lower_limit:\n",
    "            anomalies.append(outlier)\n",
    "    return anomalies"
   ]
  },
  {
   "cell_type": "code",
   "execution_count": null,
   "id": "e38ed90f",
   "metadata": {},
   "outputs": [],
   "source": [
    "def remove_outliers(data):\n",
    "    # Set upper and lower limit to 3 standard deviations\n",
    "    data_std = statistics.stdev(data)\n",
    "    data_mean = statistics.mean(data)\n",
    "    \n",
    "    # 3-standard deviation\n",
    "    anomaly_cut_off = data_std * 3\n",
    "    \n",
    "    lower_limit = data_mean - anomaly_cut_off\n",
    "    upper_limit = data_mean + anomaly_cut_off\n",
    "    \n",
    "    # Filter the data to remove outliers\n",
    "    filtered_data = [value for value in data if lower_limit <= value <= upper_limit]\n",
    "    \n",
    "    return filtered_data"
   ]
  },
  {
   "cell_type": "code",
   "execution_count": 33,
   "id": "d17f98dd",
   "metadata": {},
   "outputs": [],
   "source": [
    "def remove_outliers_with_fences(data, k=1.5):\n",
    "    # Calculate quartiles using numpy\n",
    "    Q1 = np.percentile(data, 25)\n",
    "    Q3 = np.percentile(data, 75)\n",
    "\n",
    "    # Calculate interquartile range (IQR)\n",
    "    IQR = Q3 - Q1\n",
    "\n",
    "    # Calculate lower and upper fences\n",
    "    lower_fence = Q1 - k * IQR\n",
    "    upper_fence = Q3 + k * IQR\n",
    "\n",
    "    # Filter the data to remove outliers\n",
    "    filtered_data = [value for value in data if lower_fence <= value <= upper_fence]\n",
    "\n",
    "    return filtered_data"
   ]
  },
  {
   "cell_type": "code",
   "execution_count": 51,
   "id": "9f5ec51b",
   "metadata": {},
   "outputs": [],
   "source": [
    "def remove_outliers_with_fences(data, k=1.5):\n",
    "    # Calculate quartiles\n",
    "    Q1 = statistics.quantiles(data, n=4)[0]\n",
    "    Q3 = statistics.quantiles(data, n=4)[2]\n",
    "\n",
    "    # Calculate interquartile range (IQR)\n",
    "    IQR = Q3 - Q1\n",
    "\n",
    "    # Calculate lower and upper fences\n",
    "    lower_fence = Q1 - k * IQR\n",
    "    upper_fence = Q3 + k * IQR\n",
    "\n",
    "    # Filter the data to remove outliers\n",
    "    filtered_data = [value for value in data if lower_fence <= value <= upper_fence]\n",
    "\n",
    "    return filtered_data"
   ]
  },
  {
   "cell_type": "code",
   "execution_count": 8,
   "id": "3d28ea53",
   "metadata": {},
   "outputs": [
    {
     "data": {
      "text/plain": [
       "0        525000\n",
       "1        290000\n",
       "2        328000\n",
       "3        380000\n",
       "4        310000\n",
       "          ...  \n",
       "29575    500000\n",
       "29576    560000\n",
       "29577    464950\n",
       "29578    589000\n",
       "29579    775000\n",
       "Name: price, Length: 29580, dtype: int64"
      ]
     },
     "execution_count": 8,
     "metadata": {},
     "output_type": "execute_result"
    }
   ],
   "source": [
    "data.price"
   ]
  },
  {
   "cell_type": "code",
   "execution_count": 53,
   "id": "2cdbb566",
   "metadata": {
    "scrolled": true
   },
   "outputs": [
    {
     "data": {
      "image/png": "[encoded data removed]",
      "text/plain": [
       "<Figure size 800x600 with 1 Axes>"
      ]
     },
     "metadata": {},
     "output_type": "display_data"
    }
   ],
   "source": [
    "list_1 = remove_outliers_with_fences(data['price'])\n",
    "# Create a boxplot using seaborn\n",
    "plt.figure(figsize=(8, 6))\n",
    "sns.boxplot(x=list_1)\n",
    "plt.title('Boxplot after Removing Outliers')\n",
    "plt.show()"
   ]
  },
  {
   "cell_type": "code",
   "execution_count": 54,
   "id": "7aeda8d2",
   "metadata": {},
   "outputs": [
    {
     "data": {
      "image/png": "[encoded data removed]",
      "text/plain": [
       "<Figure size 800x600 with 1 Axes>"
      ]
     },
     "metadata": {},
     "output_type": "display_data"
    }
   ],
   "source": [
    "list_1 = remove_outliers_with_fences(data['price'])\n",
    "# Create a boxplot using seaborn\n",
    "plt.figure(figsize=(8, 6))\n",
    "sns.kdeplot(x=list_1)\n",
    "plt.title('Boxplot after Removing Outliers')\n",
    "plt.show()"
   ]
  },
  {
   "cell_type": "code",
   "execution_count": 50,
   "id": "6dd4e0b0",
   "metadata": {},
   "outputs": [
    {
     "data": {
      "text/plain": [
       "461"
      ]
     },
     "execution_count": 50,
     "metadata": {},
     "output_type": "execute_result"
    }
   ],
   "source": [
    "\n",
    "len(list_1)"
   ]
  },
  {
   "cell_type": "code",
   "execution_count": 10,
   "id": "e0db15e7",
   "metadata": {},
   "outputs": [
    {
     "data": {
      "text/plain": [
       "461"
      ]
     },
     "execution_count": 10,
     "metadata": {},
     "output_type": "execute_result"
    }
   ],
   "source": [
    "# total number of outliers\n",
    "\n",
    "len(list_1)"
   ]
  },
  {
   "cell_type": "code",
   "execution_count": 11,
   "id": "d315056a",
   "metadata": {},
   "outputs": [
    {
     "data": {
      "text/plain": [
       "29580"
      ]
     },
     "execution_count": 11,
     "metadata": {},
     "output_type": "execute_result"
    }
   ],
   "source": [
    "len(data)"
   ]
  },
  {
   "cell_type": "code",
   "execution_count": 39,
   "id": "0d8add08",
   "metadata": {},
   "outputs": [
    {
     "ename": "AttributeError",
     "evalue": "'list' object has no attribute 'skew'",
     "output_type": "error",
     "traceback": [
      "\u001b[1;31m---------------------------------------------------------------------------\u001b[0m",
      "\u001b[1;31mAttributeError\u001b[0m                            Traceback (most recent call last)",
      "Cell \u001b[1;32mIn[39], line 1\u001b[0m\n\u001b[1;32m----> 1\u001b[0m list_1\u001b[38;5;241m.\u001b[39mskew()\n",
      "\u001b[1;31mAttributeError\u001b[0m: 'list' object has no attribute 'skew'"
     ]
    }
   ],
   "source": [
    "data.price.skew()"
   ]
  },
  {
   "cell_type": "code",
   "execution_count": 46,
   "id": "b44124ce",
   "metadata": {},
   "outputs": [
    {
     "data": {
      "text/plain": [
       "<Axes: xlabel='price', ylabel='Density'>"
      ]
     },
     "execution_count": 46,
     "metadata": {},
     "output_type": "execute_result"
    },
    {
     "data": {
      "image/png": "[encoded data removed]",
      "text/plain": [
       "<Figure size 640x480 with 1 Axes>"
      ]
     },
     "metadata": {},
     "output_type": "display_data"
    }
   ],
   "source": [
    "sns.kdeplot(data.price)"
   ]
  },
  {
   "cell_type": "code",
   "execution_count": 14,
   "id": "406a1336",
   "metadata": {},
   "outputs": [],
   "source": [
    "data['price_transformed'] = np.log(data.price)"
   ]
  },
  {
   "cell_type": "code",
   "execution_count": 15,
   "id": "96dc56d0",
   "metadata": {},
   "outputs": [
    {
     "data": {
      "text/plain": [
       "0.4731646269984763"
      ]
     },
     "execution_count": 15,
     "metadata": {},
     "output_type": "execute_result"
    }
   ],
   "source": [
    "data.price_transformed.skew()"
   ]
  },
  {
   "cell_type": "code",
   "execution_count": 16,
   "id": "cd0c8c76",
   "metadata": {},
   "outputs": [],
   "source": [
    "list_2 = find_anomalies(data.price_transformed)"
   ]
  },
  {
   "cell_type": "code",
   "execution_count": 17,
   "id": "b04046d8",
   "metadata": {},
   "outputs": [
    {
     "data": {
      "text/plain": [
       "266"
      ]
     },
     "execution_count": 17,
     "metadata": {},
     "output_type": "execute_result"
    }
   ],
   "source": [
    "len(list_2)"
   ]
  },
  {
   "cell_type": "code",
   "execution_count": 18,
   "id": "0a178dcc",
   "metadata": {},
   "outputs": [],
   "source": [
    "import warnings\n",
    "warnings.filterwarnings(\"ignore\", category=FutureWarning)\n"
   ]
  },
  {
   "cell_type": "code",
   "execution_count": 19,
   "id": "e37b55b9",
   "metadata": {},
   "outputs": [
    {
     "data": {
      "text/plain": [
       "<Axes: xlabel='price_transformed', ylabel='Density'>"
      ]
     },
     "execution_count": 19,
     "metadata": {},
     "output_type": "execute_result"
    },
    {
     "data": {
      "image/png": "[encoded data removed]",
      "text/plain": [
       "<Figure size 640x480 with 1 Axes>"
      ]
     },
     "metadata": {},
     "output_type": "display_data"
    }
   ],
   "source": [
    "sns.kdeplot(data.price_transformed)"
   ]
  },
  {
   "cell_type": "code",
   "execution_count": 20,
   "id": "63ca1f36",
   "metadata": {},
   "outputs": [],
   "source": [
    "data['price_transformed_double'] = np.log(data.price_transformed)"
   ]
  },
  {
   "cell_type": "code",
   "execution_count": 21,
   "id": "7fe58cea",
   "metadata": {},
   "outputs": [
    {
     "data": {
      "text/plain": [
       "0.33092530655758573"
      ]
     },
     "execution_count": 21,
     "metadata": {},
     "output_type": "execute_result"
    }
   ],
   "source": [
    "data['price_transformed_double'].skew()"
   ]
  },
  {
   "cell_type": "code",
   "execution_count": 22,
   "id": "8eba8010",
   "metadata": {},
   "outputs": [],
   "source": [
    "list_3 = find_anomalies(data.price_transformed_double)"
   ]
  },
  {
   "cell_type": "code",
   "execution_count": 25,
   "id": "158d586a",
   "metadata": {},
   "outputs": [
    {
     "data": {
      "text/plain": [
       "251"
      ]
     },
     "execution_count": 25,
     "metadata": {},
     "output_type": "execute_result"
    }
   ],
   "source": [
    "len(list_3)"
   ]
  },
  {
   "cell_type": "markdown",
   "id": "5ae5292e",
   "metadata": {},
   "source": [
    "# Boxplot"
   ]
  },
  {
   "cell_type": "code",
   "execution_count": 24,
   "id": "dc223146",
   "metadata": {},
   "outputs": [
    {
     "data": {
      "text/plain": [
       "<Axes: >"
      ]
     },
     "execution_count": 24,
     "metadata": {},
     "output_type": "execute_result"
    },
    {
     "data": {
      "image/png": "[encoded data removed]",
      "text/plain": [
       "<Figure size 640x480 with 1 Axes>"
      ]
     },
     "metadata": {},
     "output_type": "display_data"
    }
   ],
   "source": [
    "sns.boxplot(data=data)"
   ]
  },
  {
   "cell_type": "code",
   "execution_count": null,
   "id": "2845bf9b",
   "metadata": {},
   "outputs": [],
   "source": []
  }
 ],
 "metadata": {
  "kernelspec": {
   "display_name": "Python 3 (ipykernel)",
   "language": "python",
   "name": "python3"
  },
  "language_info": {
   "codemirror_mode": {
    "name": "ipython",
    "version": 3
   },
   "file_extension": ".py",
   "mimetype": "text/x-python",
   "name": "python",
   "nbconvert_exporter": "python",
   "pygments_lexer": "ipython3",
   "version": "3.11.5"
  }
 },
 "nbformat": 4,
 "nbformat_minor": 5
}
